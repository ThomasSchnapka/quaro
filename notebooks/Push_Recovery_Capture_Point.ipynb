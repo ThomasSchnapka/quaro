{
 "cells": [
  {
   "cell_type": "markdown",
   "metadata": {},
   "source": [
    "# Push Recovery with Capture Points\n",
    "\n",
    "**Important**: Use _nbviewer_ to look at this notebook. Github has some problems with rendering equations properly: [open this notebook in nbviewer](https://nbviewer.jupyter.org/github/ThomasSchnapka/quaro/blob/master/notebooks/Push_Recovery_Capture_Point.ipynb)"
   ]
  },
  {
   "cell_type": "markdown",
   "metadata": {},
   "source": [
    "This notebook exemplifies the Balance Controller for quadrupedal robots described in this paper: [Capturability-based analysis and control\n",
    "of legged locomotion](https://www.researchgate.net/publication/255757664_Capturability-based_analysis_and_control_of_legged_locomotion_Part_1_Theory_and_application_to_three_simple_gait_models). \n",
    "\n",
    "The goal is to determine a feasable point (the so-called _capture point_) the leg has to step at in order to prevent the robot from falling."
   ]
  },
  {
   "cell_type": "markdown",
   "metadata": {},
   "source": [
    "### Linear Inverted Pendulum Model\n",
    "\n",
    "In this paper, the robot is modelled as a _Linear Inverted Pendulum_ (LIMP) which is f.e. used for slope  control in the current Quaro control software.\n",
    "\n",
    "The LIMP approximates the robot as a inverted pendulum with a point mass at the robots COM $p_{COM}$ at constant height $z_{COM}$. The foot is described as a point mass, too, and has the location $p_{leg}$. Both heights $z_{COM}$ and $z_{COM}$ are constant and the mass points are connected by a massless, telescoping mechanism of variable length.\n",
    "\n",
    "The projection matrix $\\textbf{P}$ projects the COM position $p_{COM}$ onto the leg plane.\n",
    "\n",
    "Visualization in 2D expressed in robot base coordinates:"
   ]
  },
  {
   "cell_type": "code",
   "execution_count": 1,
   "metadata": {},
   "outputs": [
    {
     "data": {
      "image/png": "[encoded data removed]",
      "text/plain": [
       "<Figure size 432x288 with 1 Axes>"
      ]
     },
     "metadata": {
      "needs_background": "light"
     },
     "output_type": "display_data"
    }
   ],
   "source": [
    "import numpy as np\n",
    "import matplotlib.pyplot as plt\n",
    "\n",
    "# constants\n",
    "z_com = 0\n",
    "z_leg = 2\n",
    "z0 = z_com-z_leg\n",
    "p_com = np.array([1, z_com, 1])\n",
    "p_leg = np.array([0, z_leg, 1])\n",
    "P = np.array([[1, 0,   0],\n",
    "              [0, 1, -z0],\n",
    "              [0, 0,   1]])\n",
    "\n",
    "# plot\n",
    "def plot_limp(p_com, p_leg, P):\n",
    "    plt.plot([p_com[0], p_leg[0]],[p_com[1], p_leg[1]],\"k\", linewidth=3)\n",
    "    plt.plot(p_com[0], p_com[1], \"ko\", markersize=20)\n",
    "    plt.text(p_com[0], p_com[1]-0.2, \"$p_{COM}$\")\n",
    "    plt.text(p_com[0], p_com[1], \"m\", color=\"white\", va=\"center\", ha=\"center\")\n",
    "    plt.plot(p_leg[0], p_leg[1], \"ko\", markersize=5)\n",
    "    plt.text(p_leg[0], p_leg[1]+0.2, \"$p_{leg}$\")\n",
    "    p_trans = P@p_com\n",
    "    plt.plot(p_trans[0], p_trans[1], \"bo\", markersize=5)\n",
    "    plt.text(p_trans[0], p_trans[1]+0.2, \"$Pp_c$\")\n",
    "\n",
    "plot_limp(p_com, p_leg, P)\n",
    "plt.hlines([z_com, z_leg], -10, 10, color=\"gray\", linestyles=\"--\")\n",
    "plt.xlim(-1.5, 1.5)\n",
    "plt.ylim(2.5, -0.5)\n",
    "plt.xlabel(\"$x$\")\n",
    "plt.ylabel(\"$z$\")\n",
    "plt.gca().set_aspect('equal', adjustable='box')"
   ]
  },
  {
   "cell_type": "markdown",
   "metadata": {},
   "source": [
    "Assuming that the force $f$ is acting through the limb from the leg point onto the COM, the equations of motions are:\n",
    "\n",
    "$$\n",
    "m\\ddot{\\textbf{p}}_\\mathrm{COM} = \\textbf{f} + m\\textbf{g}\n",
    "$$\n",
    "\n",
    "Since the force vector always points in the same direction as the limb:\n",
    "\n",
    "$$\n",
    "-(\\textbf{p}_\\mathrm{COM} - \\textbf{p}_\\mathrm{leg}) \\times \\textbf{f} = \\textbf{0}\n",
    "$$\n",
    "\n",
    "The COM mass will stay at height $z_0$ if $\\dot{z}_\\mathrm{COM}$ and $\\ddot{z}_\\mathrm{COM} = 0$. With this assumption the two equations above we get:\n",
    "\n",
    "$$\n",
    "f_x = m\\omega^2_0(x_\\mathrm{COM} - x_\\mathrm{leg})\\\\\n",
    "f_y = m\\omega^2_0(y_\\mathrm{COM} - y_\\mathrm{leg})\\\\\n",
    "f_z = mg\n",
    "$$\n",
    "\n",
    "with $\\omega_0 = \\sqrt{\\frac{g}{z_0}}$, which is the inverse of the time constant of the LIMP. Now we can write $\\ddot{\\textbf{p}}_\\mathrm{COM}$ as:\n",
    "\n",
    "$$\n",
    "\\ddot{\\textbf{p}}_\\mathrm{COM} = \\omega^2_0(\\textbf{Pp}_\\mathrm{COM} - \\textbf{p}_\\mathrm{leg})\n",
    "$$\n",
    "\n",
    "where the points are given in homogeneous coordinates and $\\textbf{P}$ is a homogeneous transformation matrix:\n",
    "\n",
    "$$\n",
    "\\textbf{P} = \n",
    "\\left( \n",
    "\\begin{array}{cccc}\n",
    "    1 & 0 & 0 & 0\\\\ \n",
    "    0 & 1 & 0 & 0\\\\\n",
    "    0 & 0 & 1 & -z_0\\\\\n",
    "    0 & 0 & 0 & 1\\\\\n",
    "\\end{array}\n",
    "\\right)\n",
    "$$\n",
    "\n",
    "The equation of motion is linear and decoupled, thus we can look at motions in x- and y-direction separately. "
   ]
  },
  {
   "cell_type": "markdown",
   "metadata": {},
   "source": [
    "##### Removing dimensionality\n",
    "To simplify further calculations, dimensionless quantities are defined:\n",
    "\n",
    "$$\n",
    "\\textbf{p}' = \\frac{\\textbf{p}}{z_0}, \\quad \\textbf{p}_\\mathrm{COM}' = \\frac{\\textbf{p}_\\mathrm{COM}}{z_0}, \\quad t' = omega_0 t\n",
    "$$\n",
    "\n",
    "$$\n",
    "\\dot{\\textbf{p}}' = \\frac{\\dot{\\textbf{p}}}{z_0 \\omega_0}\n",
    "$$\n",
    "\n",
    "$$\n",
    "\\ddot{\\textbf{p}}' = \\frac{\\ddot{\\textbf{p}}}{z_0 \\omega_0} = \\frac{\\ddot{\\textbf{p}}}{g}\n",
    "$$\n",
    "\n",
    "So our system description becomes:\n",
    "\n",
    "$$\n",
    "\\ddot{\\textbf{p}}_\\mathrm{COM}' = \\textbf{Pp}_\\mathrm{COM}' - \\textbf{p}_\\mathrm{leg}'\n",
    "$$"
   ]
  },
  {
   "cell_type": "markdown",
   "metadata": {},
   "source": [
    "### Constraints\n",
    "\n",
    "The paper introduced two constraints for the allowable control inputs for the system:\n",
    "1. There exists an upper bound on the step length, i.e. the distance between two steps $l_\\mathrm{max}$\n",
    "2. $\\Delta t_s$ denotes the lower limit to the time between steps which results of the swing phase dynamic"
   ]
  },
  {
   "cell_type": "markdown",
   "metadata": {},
   "source": [
    "### Capture Points\n",
    "There are two types of capture points: An _instantaneous capture point_ is the point for which the COM would come into a stable position if the leg tip would be placed here. The instantaneous capture point must not be necessarily lie within the feasible area defined by the given constraints. For example, several steps might be necessary to reach the instantaneous capture point. The definition of a _capture point_ is to be feasible.\n",
    "\n",
    "Firstly, let's take a look at the instantaneous capture point:"
   ]
  },
  {
   "cell_type": "markdown",
   "metadata": {},
   "source": [
    "#### 1) Instantaneous Capture Point\n",
    "Viewing the LIMP as an optimal control problem, the Hamiltonian (function to be maximized) is given by:\n",
    "\n",
    "$$\n",
    "H(\\textbf{p}_\\mathrm{COM},\\textbf{f}) = I(\\textbf{p}_\\mathrm{COM},\\textbf{f}) + \\lambda \\ddot{\\textbf{p}}_\\mathrm{COM}\n",
    "$$\n",
    "\n",
    "where $I(\\textbf{p}_\\mathrm{COM},\\textbf{f}, t)$ is some kind of performance measurement. Choosing\n",
    "\n",
    "$$\n",
    "I(\\textbf{p}_\\mathrm{COM},\\textbf{f}, t) = \\frac{1}{2}\\dot{\\textbf{p}}_\\mathrm{COM}'\n",
    "$$\n",
    "\n",
    "and\n",
    "\n",
    "$$\\lambda \\ddot{\\textbf{p}}_\\mathrm{COM} = -\\frac{1}{2}(\\textbf{p}_\\mathrm{COM}' - \\textbf{p}_\\mathrm{leg}')^2\n",
    "$$\n",
    "\n",
    "the Hamiltonian corresponds to the orbital energy:\n",
    "\n",
    "$$\n",
    "E_\\mathrm{LIP, x}' = \\frac{1}{2}\\dot{x}_\\mathrm{COM}'^2 \\,-\\, \\frac{1}{2}(x_\\mathrm{COM}'\n",
    "- x_\\mathrm{leg}')^2\\\\\n",
    "\\\\\n",
    "E_\\mathrm{LIP, y}' = \\frac{1}{2}\\dot{y}_\\mathrm{COM}'^2 \\,-\\, \\frac{1}{2}(y_\\mathrm{COM}'\n",
    "- y_\\mathrm{leg}')^2\n",
    "$$\n",
    "\n",
    "The orbital energy makes  a statement of the behavior of the LIMP while moving in a certain direction. If we suppose a movement in the $x$-direction, three cases come up:\n",
    "\n",
    "1. $E_\\mathrm{LIP, x}'>0$ The orbital energy is large enough for $x_\\mathrm{COM}$ to reach $x_\\mathrm{leg}$ but then continues to accelerate (away)\n",
    "2. $E_\\mathrm{LIP, x}'=0$ $x_\\mathrm{COM}$ comes to a halt at $x_\\mathrm{leg}$\n",
    "3. $E_\\mathrm{LIP, x}'<0$ The orbital energy is too small to reach the desired position, the movements stops and $x_\\mathrm{COM}$ starts to accelerate in reverse direction."
   ]
  },
  {
   "cell_type": "markdown",
   "metadata": {},
   "source": [
    "Solving the given equations in order to find a $\\textbf{p}_\\mathrm{leg}$ for $E_\\mathrm{LIP, x}'$ to be $=0$ yields:\n",
    "\n",
    "\n",
    "$$\n",
    "\\textbf{p}_\\mathrm{leg, ic}' = \\textbf{Pp}' + \\dot{\\textbf{p}}'\n",
    "$$\n",
    "\n",
    "and with original dimensions:\n",
    "\n",
    "$$\n",
    "\\textbf{p}_\\mathrm{leg, ic} = \\textbf{Pp} + \\frac{\\dot{\\textbf{p}}}{\\omega_0}\n",
    "$$"
   ]
  },
  {
   "cell_type": "markdown",
   "metadata": {},
   "source": [
    "In order to understand this result, let's make a simulation:"
   ]
  },
  {
   "cell_type": "code",
   "execution_count": 3,
   "metadata": {
    "scrolled": false
   },
   "outputs": [
    {
     "name": "stderr",
     "output_type": "stream",
     "text": [
      "MovieWriter ffmpeg unavailable; using Pillow instead.\n"
     ]
    },
    {
     "data": {
      "image/png": "[encoded data removed]",
      "text/plain": [
       "<Figure size 432x288 with 1 Axes>"
      ]
     },
     "metadata": {
      "needs_background": "light"
     },
     "output_type": "display_data"
    }
   ],
   "source": [
    "import matplotlib.animation as animation\n",
    "from matplotlib import rc\n",
    "import scipy.integrate as integrate\n",
    "from IPython.display import HTML\n",
    "#%matplotlib notebook\n",
    "\n",
    "# constants\n",
    "m = 1\n",
    "g = 9.81\n",
    "w = np.sqrt(-g/z0)\n",
    "T = 3.0\n",
    "t = np.arange(0, T, 0.1)\n",
    "\n",
    "# create two states with same x_com values but one with arbitrary x_leg\n",
    "# position and and one with a capture point as x_leg\n",
    "x_com = -1\n",
    "dx_com = 3\n",
    "state = np.array([x_com, dx_com, x_com, dx_com])\n",
    "x_leg = 0\n",
    "x_leg_ic = state[2] + state[3]/w\n",
    "\n",
    "\n",
    "def derivs(state, t):\n",
    "    '''differential equations for state calculation'''\n",
    "    state_dot = np.zeros_like(state)\n",
    "    # with arbitrary x_leg\n",
    "    state_dot[0] = state[1]\n",
    "    state_dot[1] = m*w**2*(state[0] - x_leg)\n",
    "    # with capture point as x_leg\n",
    "    state_dot[2] = state[3]\n",
    "    state_dot[3] = m*w**2*(state[2] - x_leg_ic)\n",
    "    return state_dot\n",
    "\n",
    "\n",
    "# integrating ODE\n",
    "x = integrate.odeint(derivs, state, t)\n",
    "\n",
    "# add plot elements\n",
    "fig = plt.figure()\n",
    "ax = fig.add_subplot((111), autoscale_on=False, xlim=(-4, 4), ylim=(3, -1))\n",
    "ax.set_aspect('equal')\n",
    "ax.set_title(\"push recovery with capture points\")\n",
    "ax.set_xlabel(\"x\")\n",
    "ax.set_ylabel(\"z\")\n",
    "ax.grid()\n",
    "line0, = ax.plot([], [], 'o-', lw=2, label=\"without capture point\")\n",
    "line1, = ax.plot([], [], 'o-', lw=2, label=\"with capture point\")\n",
    "\n",
    "def init():\n",
    "    line0.set_data([], [])\n",
    "    line1.set_data([], [])\n",
    "    return line0, line1\n",
    "\n",
    "def animate(i):\n",
    "    x0 = [x_leg, x[i, 0]]\n",
    "    y0 = [z_leg, z_com]\n",
    "    line0.set_data(x0, y0)\n",
    "    x1 = [x_leg_ic, x[i, 2]]\n",
    "    y1 = [z_leg,    z_com]\n",
    "    line1.set_data(x1, y1)\n",
    "    return line0, line1\n",
    "\n",
    "ani = animation.FuncAnimation(fig, animate, range(1, len(x)), interval=100, init_func=init)\n",
    "#HTML(ani.to_jshtml())\n",
    "plt.legend()\n",
    "ani.save(\"media/push_recovery_2D.gif\")\n"
   ]
  },
  {
   "cell_type": "markdown",
   "metadata": {},
   "source": [
    "(For better online layout, show plot in markdown instead of in Python)\n",
    "![push recovery gif](media/push_recovery_2D.gif)"
   ]
  },
  {
   "cell_type": "markdown",
   "metadata": {},
   "source": [
    "## Sources\n",
    "\n",
    "- Kajita, Shuuji et al.: [The 3D Linear Inverted Pendulum Model: A simple modeling for a biped walking pattern generation](https://www.cs.cmu.edu/~hgeyer/Teaching/R16-899B/Papers/KajiitaEA01IEEE_ICIRS.pdf)\n",
    "- https://en.wikipedia.org/wiki/Hamiltonian_(control_theory)"
   ]
  },
  {
   "cell_type": "code",
   "execution_count": null,
   "metadata": {},
   "outputs": [],
   "source": []
  }
 ],
 "metadata": {
  "kernelspec": {
   "display_name": "Python 3",
   "language": "python",
   "name": "python3"
  },
  "language_info": {
   "codemirror_mode": {
    "name": "ipython",
    "version": 3
   },
   "file_extension": ".py",
   "mimetype": "text/x-python",
   "name": "python",
   "nbconvert_exporter": "python",
   "pygments_lexer": "ipython3",
   "version": "3.8.5"
  }
 },
 "nbformat": 4,
 "nbformat_minor": 4
}
