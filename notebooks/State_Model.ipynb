{
 "cells": [
  {
   "cell_type": "markdown",
   "metadata": {},
   "source": [
    "### State model of quadruped robots\n",
    "\n",
    "This notebook exemplifies and implementation of the state model of quadruped robots presented in the [MIT Cheetah 3 Paper](https://dspace.mit.edu/bitstream/handle/1721.1/126619/IROS.pdf?sequence=2&isAllowed=y)\n",
    "\n",
    "This model is used in an optimization algorithm that calculates optimal ground reaction forces used for quadruped locomotion."
   ]
  },
  {
   "cell_type": "markdown",
   "metadata": {},
   "source": [
    "Due to the switching between stance and swing phases it is difficult to describe the exact behavior of quadruped robots mathematically without introducing a lot of complexity. However, using the common assumption that the robot is equipped with light legs and with low inertia compared to the body, a linear model can be derived.[<sup>1</sup>](#fn1)"
   ]
  },
  {
   "cell_type": "markdown",
   "metadata": {},
   "source": [
    "The controller model makes use of the linear relationship between the COM acceleration $\\ddot{\\textbf{p}}_\\mathrm{C}$ and the body angular acceleration $\\dot{\\omega}_b$ and the ground reaction forces $\\textbf{F}$ between the leg tips and the ground."
   ]
  },
  {
   "cell_type": "markdown",
   "metadata": {},
   "source": [
    "Assuming a rigid body[<sup>2</sup>](#fn2), forces acting on the feet influence the COM position:\n",
    "\n",
    "$$\n",
    "\\textbf{f}_0 + \\textbf{f}_1 + \\textbf{f}_2 + \\textbf{f}_3 = m\\,(\\ddot{\\textbf{p}}_\\mathrm{COM} + \\textbf{g})\n",
    "$$\n",
    "\n"
   ]
  },
  {
   "cell_type": "markdown",
   "metadata": {},
   "source": [
    "The same thing can be applied to torques. Using the distance from the foottip $\\textbf{p}_\\mathrm{n}$ to the COM position $\\textbf{p}_\\mathrm{COM}$ as a \"lever\", the ground reaction forces change the body's angular velocity $\\dot{\\omega}_\\mathrm{b}$.\n",
    "\n",
    "In order to write this down in matrix form instead of vector notation, [skew-symmetric matrices](https://en.wikipedia.org/wiki/Skew-symmetric_matrix#Cross_product) are used:\n",
    "$$\n",
    "\\textbf{M} = \\textbf{r}\\times\\textbf{f} = [\\textbf{r}]_{\\times}\\,\\textbf{f}\n",
    "$$\n",
    "\n",
    "where\n",
    "\n",
    "$$\n",
    "[\\textbf{r}]_{\\times} = \n",
    "\\left(\\begin{array}{rrr} \n",
    "0 & -r_3 & r_2 \\\\ \n",
    "r_3 & 0 & -r_1 \\\\ \n",
    "-r_2 & r_1 & 0 \\\\ \n",
    "\\end{array}\\right)\n",
    "$$\n",
    "\n",
    "Using this notation, the momentum is calculated with:\n",
    "\n",
    "$$\n",
    "\\sum_{n=0}^N [\\textbf{p}_\\mathrm{n} - \\textbf{p}_\\mathrm{COM}]_{\\times}\\, \\textbf{f}_\\mathrm{n} = \\textbf{I}_\\mathrm{G}\\,\\dot{\\omega}_\\mathrm{b}\n",
    "$$\n",
    "\n",
    "Where $m$ is the robot's total mass and $\\textbf{I}_\\mathrm{G}$ is the rotational inertia."
   ]
  },
  {
   "cell_type": "markdown",
   "metadata": {},
   "source": [
    "Introducing a vector containing the forces on all four legs\n",
    "\n",
    "$$\n",
    "\\textbf{f} = (\\textbf{f}_0^T, \\,\\textbf{f}_1^T, \\,\\textbf{f}_2^T, \\,\\textbf{f}_3^T)^T\n",
    "$$\n",
    "\n",
    "The whole state model is:\n",
    "\n",
    "$$\n",
    "\\underbrace{\n",
    "    \\left( \\begin{array}{ccc}\n",
    "    \\textbf{I}_{3\\times3} & ... & \\textbf{I}_{3\\times3} \\\\ \n",
    "    [\\textbf{p}_0 - \\textbf{p}_{\\mathrm{COM}}]_{\\times} & ... & [\\textbf{p}_3 - \\textbf{p}_{\\mathrm{COM}}]_{\\times} \\\\ \n",
    "    \\end{array}\\right)\n",
    "}_\\textbf{A}\n",
    "\\textbf{ f}\n",
    "=\n",
    "\\underbrace{\n",
    "    \\left( \\begin{array}{c}\n",
    "    m\\,(\\ddot{\\textbf{p}}_C + \\textbf{g}) \\\\\n",
    "    \\textbf{I}_\\mathrm{G}\\,\\dot{\\omega}_\\mathrm{b} \\\\ \n",
    "    \\end{array}\\right)\n",
    "}_\\textbf{b}\n",
    "$$\n",
    "\n",
    "with $\\textbf{I}_{3\\times3}$ being a 3x3 identity matrix"
   ]
  },
  {
   "cell_type": "markdown",
   "metadata": {},
   "source": [
    "#### Example\n",
    "To see how a Python implementation could look like, let's make an example where the robot balances on two diagonal feet (and the others are in air)"
   ]
  },
  {
   "cell_type": "code",
   "execution_count": 1,
   "metadata": {},
   "outputs": [
    {
     "name": "stdout",
     "output_type": "stream",
     "text": [
      "b =  [0.   0.   9.81 0.   0.   0.  ]\n"
     ]
    }
   ],
   "source": [
    "import numpy as np\n",
    "\n",
    "# setting constants\n",
    "g = np.array([0, 0, 9.81])\n",
    "m = 1\n",
    "Ig = np.eye(3)\n",
    "I3 = np.eye(3)\n",
    "\n",
    "# function to generate skew symmetric matrices\n",
    "def skew(r):\n",
    "    '''return the skew symmetric matrix corresponding to r'''\n",
    "    return np.array([[    0, -r[2],  r[1]],\n",
    "                     [ r[2],     0, -r[0]],\n",
    "                     [-r[1],  r[0],    0]])\n",
    "\n",
    "# leg and COM location\n",
    "p0 = np.array([ 0.09,  0.04, 0.18]) # support\n",
    "p1 = np.array([ 0.09, -0.04, 0.14]) # swing\n",
    "p2 = np.array([-0.09,  0.04, 0.14]) # swing\n",
    "p3 = np.array([-0.09, -0.04, 0.18]) # support\n",
    "pc = np.array([0, 0, 0])\n",
    "\n",
    "# generate A\n",
    "A = np.vstack((np.hstack((         I3,          I3,         I3,          I3)),\n",
    "               np.hstack((skew(p0-pc), skew(p1-pc), skew(p2-pc), skew(p3-pc))))\n",
    "             )\n",
    "\n",
    "# forces\n",
    "f0 = 0.5*m*g\n",
    "f1 = np.array([0, 0, 0])\n",
    "f2 = np.array([0, 0, 0])\n",
    "f3 = 0.5*m*g\n",
    "f = np.hstack((f0, f1, f2, f3))\n",
    "\n",
    "print(\"b = \", A@f)"
   ]
  },
  {
   "cell_type": "markdown",
   "metadata": {},
   "source": [
    "As we can see in this example, the only acting acceleration on the body is gravity. Furthermore, there exists no angular acceleration. If we play around with the values and f.e. change the supporting legs to be on one side, the angular acceleration would become nonzero because in reality the robot would tip over"
   ]
  },
  {
   "cell_type": "markdown",
   "metadata": {},
   "source": [
    "#### Sources:\n",
    "- Bledt, Gerado et al: MIT Cheetah 3: Design and Control of a Robust, Dynamic Quadruped Robot\n",
    "- Focchi, michele et al.: High-slope terrain locomotion for torque-controlled quadruped robots\n",
    "- https://en.wikipedia.org/wiki/Skew-symmetric_matrix#Cross_product"
   ]
  },
  {
   "cell_type": "markdown",
   "metadata": {},
   "source": [
    "#### Footnotes\n",
    "\n",
    "<sup>1</sup>: <span id=\"fn1\">This assumption does not hold for the SpotMicro framework, as the servo motors are included in the legs and make out the main part of the weight. Concluding, the COM changes constantly by a fair amount and the leg inertia cannot be neglected. This issue must be tackled before implementing the given model into the control software.</span>\n",
    "\n",
    "<sup>2</sup>: <span id=\"fn2\">A rigid body model implies than no mechanical part deforms if forces or torques are exerted on it. Again, this assumptions does not completely hold for SpotMicro as there an not negelectable amount of backlash present in the servos. However, this effect cannot be avoided with better calculations but only using a better mechanical construction.</span>"
   ]
  }
 ],
 "metadata": {
  "kernelspec": {
   "display_name": "Python 3",
   "language": "python",
   "name": "python3"
  },
  "language_info": {
   "codemirror_mode": {
    "name": "ipython",
    "version": 3
   },
   "file_extension": ".py",
   "mimetype": "text/x-python",
   "name": "python",
   "nbconvert_exporter": "python",
   "pygments_lexer": "ipython3",
   "version": "3.7.6"
  }
 },
 "nbformat": 4,
 "nbformat_minor": 4
}
