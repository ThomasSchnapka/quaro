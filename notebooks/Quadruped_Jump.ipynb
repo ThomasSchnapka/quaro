{
 "cells": [
  {
   "cell_type": "markdown",
   "metadata": {},
   "source": [
    "# Quadruped Jump\n",
    "My idea on a trajectory optimization method for jumps and maybe even more versatile movements. The future goal is to find a reliable method for trajectory generation of dance movements similar to the video from Boston Dynamics.\n",
    "\n",
    "The core idea is taken from A. Winklers [PhD-thesis](https://storage.googleapis.com/concise-hue-230505.appspot.com/pdfs/18-phd-winkler.pdf), however there are two major differences in my method:\n",
    "1. The optimization is of linear nature as the COM movement is predefined. Therefore, we can hopefully use a QP solver, which I'm more familiar with right now.\n",
    "2. Time intervals are predefined as well. The goal is to teach the robot some kind of choreography, that's why we can and have to implement individual constraints for each motion."
   ]
  },
  {
   "cell_type": "code",
   "execution_count": 112,
   "metadata": {},
   "outputs": [],
   "source": [
    "# imports\n",
    "import numpy as np\n",
    "np.set_printoptions(precision=5, suppress=True)\n",
    "import matplotlib.pyplot as plt\n",
    "import scipy.integrate as integrate\n",
    "from scipy.interpolate import CubicHermiteSpline as hspline"
   ]
  },
  {
   "cell_type": "markdown",
   "metadata": {},
   "source": [
    "#### Dynamic Model\n",
    "The underlying dynamic model is the Single Rigid Body Dynamics model described in the notebook `State_Model`.\n",
    "\n",
    "With $\\textbf{f}$ beeing the force vector that contains all leg forces\n",
    "\n",
    "$$\n",
    "\\textbf{f} = (\\textbf{f}_0^T, \\,\\textbf{f}_1^T, \\,\\textbf{f}_2^T, \\,\\textbf{f}_3^T)^T\n",
    "$$\n",
    "\n",
    "the whole state model is:\n",
    "\n",
    "$$\n",
    "\\underbrace{\n",
    "    \\left( \\begin{array}{ccc}\n",
    "    \\textbf{I}_{3\\times3} & ... & \\textbf{I}_{3\\times3} \\\\ \n",
    "    [\\textbf{p}_0 - \\textbf{p}_{\\mathrm{c}}]_{\\times} & ... & [\\textbf{p}_3 - \\textbf{p}_{\\mathrm{c}}]_{\\times} \\\\ \n",
    "    \\end{array}\\right)\n",
    "}_\\textbf{A}\n",
    "\\textbf{ f}\n",
    "=\n",
    "\\underbrace{\n",
    "    \\left( \\begin{array}{c}\n",
    "    m\\,(\\ddot{\\textbf{p}}_C + \\textbf{g}) \\\\\n",
    "    \\textbf{I}_\\mathrm{G}\\,\\dot{\\omega}_\\mathrm{b} \\\\ \n",
    "    \\end{array}\\right)\n",
    "}_\\textbf{b}\n",
    "$$\n",
    "\n",
    "with $\\textbf{I}_{3\\times3}$ being a 3x3 identity matrix"
   ]
  },
  {
   "cell_type": "markdown",
   "metadata": {},
   "source": [
    "To rewrite this model into the State-Space-representation $\\dot{x} = A(t)x(t) + B(t)u(t)$, we define the state vector as:\n",
    "\n",
    "\n",
    "$$\n",
    "\\textbf{x}\n",
    "=\n",
    "\\left( \\begin{array}{c}\n",
    "    \\textbf{p}\\\\\n",
    "    \\boldsymbol{\\omega}\\\\\n",
    "    \\dot{\\textbf{p}}\\\\\n",
    "    \\dot{\\boldsymbol{\\omega}}\\\\\n",
    "    \\end{array}\\right)\n",
    "$$\n",
    "\n",
    "\n",
    "\n"
   ]
  },
  {
   "cell_type": "markdown",
   "metadata": {},
   "source": [
    "The State-space-representation can be now written as:\n",
    "\n",
    "$$\n",
    "\\dot{\n",
    "    \\left( \\begin{array}{c}\n",
    "    \\textbf{p}_c\\\\\n",
    "    \\boldsymbol{\\omega}_c\\\\\n",
    "    \\dot{\\textbf{p}}_c\\\\\n",
    "    \\dot{\\boldsymbol{\\omega}}_c\\\\\n",
    "    \\end{array}\\right)\n",
    "}\n",
    "=\n",
    "\\underbrace{\n",
    "\\left( \\begin{array}{cccc}\n",
    "    \\boldsymbol{0}_{3\\times3} & \\boldsymbol{0}_{3\\times3} & \\boldsymbol{I}_{3\\times3} & \\boldsymbol{0}_{3\\times3}\\\\\n",
    "    \\boldsymbol{0}_{3\\times3} & \\boldsymbol{0}_{3\\times3} & \\boldsymbol{0}_{3\\times3} & \\boldsymbol{I}_{3\\times3}\\\\\n",
    "    \\boldsymbol{0}_{3\\times3} & \\boldsymbol{0}_{3\\times3} & \\boldsymbol{0}_{3\\times3} & \\boldsymbol{0}_{3\\times3}\\\\\n",
    "    \\boldsymbol{0}_{3\\times3} & \\boldsymbol{0}_{3\\times3} & \\boldsymbol{0}_{3\\times3} & \\boldsymbol{0}_{3\\times3}\\\\\n",
    "    \\end{array}\\right)\n",
    "}_\\textbf{A}\n",
    "\\,\n",
    "\\left( \\begin{array}{c}\n",
    "    \\textbf{p}_c\\\\\n",
    "    \\boldsymbol{\\omega}_c\\\\\n",
    "    \\dot{\\textbf{p}}_c\\\\\n",
    "    \\dot{\\boldsymbol{\\omega}}_c\\\\\n",
    "    \\end{array}\\right)\n",
    "+\n",
    "\\underbrace{\n",
    "\\left( \\begin{array}{cccc}\n",
    "    \\boldsymbol{0}_{3\\times3} & \\boldsymbol{0}_{3\\times3} & \\boldsymbol{0}_{3\\times3} & \\boldsymbol{0}_{3\\times3}\\\\\n",
    "    \\boldsymbol{0}_{3\\times3} & \\boldsymbol{0}_{3\\times3} & \\boldsymbol{0}_{3\\times3} & \\boldsymbol{0}_{3\\times3}\\\\\n",
    "    \\frac{1}{m}\\boldsymbol{I}_{3\\times3} & \\frac{1}{m}\\boldsymbol{I}_{3\\times3} & \\frac{1}{m}\\boldsymbol{I}_{3\\times3} & \\frac{1}{m}\\boldsymbol{I}_{3\\times3}\\\\\n",
    "    s_{\\phi,0}\\textbf{I}_\\mathrm{G}^{-1}[\\textbf{p}_0 - \\textbf{p}_{\\mathrm{c}}]_{\\times} & s_{\\phi,1}\\textbf{I}_\\mathrm{G}^{-1}[\\textbf{p}_1 - \\textbf{p}_{\\mathrm{c}}]_{\\times} & s_{\\phi,2}\\textbf{I}_\\mathrm{G}^{-1}[\\textbf{p}_2 - \\textbf{p}_{\\mathrm{c}}]_{\\times} & s_{\\phi,3}\\textbf{I}_\\mathrm{G}^{-1}[\\textbf{p}_3 - \\textbf{p}_{\\mathrm{c}}]_{\\times}\\\\\n",
    "    \\end{array}\\right)\n",
    "}_\\textbf{B(t)}\n",
    "\\,\n",
    "\\left( \\begin{array}{c}\n",
    "    \\boldsymbol{f}_{0}\\\\\n",
    "    \\boldsymbol{f}_{1}\\\\\n",
    "    \\boldsymbol{f}_{2}\\\\\n",
    "    \\boldsymbol{f}_{3}\\\\\n",
    "\\end{array}\\right)\n",
    "-\n",
    "\\underbrace{\n",
    "\\left( \\begin{array}{c}\n",
    "    \\boldsymbol{0}_3\\\\\n",
    "    \\boldsymbol{0}_3\\\\\n",
    "    \\boldsymbol{g}\\\\\n",
    "    \\boldsymbol{0}_3\\\\\n",
    "\\end{array}\\right)\n",
    "}_\\textbf{C}\n",
    "$$\n",
    "\n",
    "While $\\textbf{A}$ is constant, $\\textbf{B(t)}$ changes with time. $s_{\\phi,n}$ denotes whether leg $n$ is in stance (1) or swing (0) phase. Thereby the optimizer knows that e.g a swinging leg cannot contribute to the change of the state.\n",
    "\n",
    "\n",
    "\n"
   ]
  },
  {
   "cell_type": "markdown",
   "metadata": {},
   "source": [
    "Let's build this dynamic model in Python:"
   ]
  },
  {
   "cell_type": "code",
   "execution_count": 103,
   "metadata": {},
   "outputs": [],
   "source": [
    "# constants\n",
    "g = np.array([0, 0, 9.81])\n",
    "m = 1\n",
    "Ig = np.eye(3)\n",
    "Ig_inv = np.linalg.inv(Ig)\n",
    "I3 = np.eye(3)\n",
    "O3 = np.zeros((3,3))\n",
    "O31 = np.zeros(3)\n",
    "\n",
    "\n",
    "# generate matrices\n",
    "def skew(r):\n",
    "    '''return the skew symmetric matrix corresponding to r'''\n",
    "    return np.array([[    0, -r[2],  r[1]],\n",
    "                     [ r[2],     0, -r[0]],\n",
    "                     [-r[1],  r[0],    0]])\n",
    "\n",
    "A = np.block([[O3, O3, I3, O3],\n",
    "              [O3, O3, O3, I3],\n",
    "              [O3, O3, O3, O3],\n",
    "              [O3, O3, O3, O3]])\n",
    "\n",
    "def get_B(s_phi, p_c, p_legs):\n",
    "    '''\n",
    "    returns B(t)\n",
    "    args:\n",
    "        s_phi:  4x1 bool array with leg stats\n",
    "        p_c:    3x1 array with com position\n",
    "        p_legs: 3x4 array with leg positions\n",
    "    '''\n",
    "    # create comlums\n",
    "    b0 = np.vstack((O3, O3, (1/m)*I3, s_phi[0]*Ig_inv@skew(p_legs[:,0]-p_c)))\n",
    "    b1 = np.vstack((O3, O3, (1/m)*I3, s_phi[1]*Ig_inv@skew(p_legs[:,1]-p_c)))\n",
    "    b2 = np.vstack((O3, O3, (1/m)*I3, s_phi[2]*Ig_inv@skew(p_legs[:,2]-p_c)))\n",
    "    b3 = np.vstack((O3, O3, (1/m)*I3, s_phi[3]*Ig_inv@skew(p_legs[:,3]-p_c)))\n",
    "    B = np.hstack((b0, b1, b2, b3))\n",
    "    return B\n",
    "\n",
    "C = np.hstack((O31, O31, g, O31)).T"
   ]
  },
  {
   "cell_type": "markdown",
   "metadata": {},
   "source": [
    "A simple test to check our simulation"
   ]
  },
  {
   "cell_type": "code",
   "execution_count": 122,
   "metadata": {},
   "outputs": [
    {
     "data": {
      "image/png": "[encoded data removed]",
      "text/plain": [
       "<Figure size 432x288 with 2 Axes>"
      ]
     },
     "metadata": {
      "needs_background": "light"
     },
     "output_type": "display_data"
    }
   ],
   "source": [
    "T = 4\n",
    "s_phi = np.array([1, 1, 1, 1])\n",
    "p_legs = np.array([[ 0.09,  0.04, 0.18],\n",
    "                   [ 0.09, -0.04, 0.18],\n",
    "                   [-0.09,  0.04, 0.18], \n",
    "                   [-0.09, -0.04, 0.18]]).T\n",
    "# splines\n",
    "q = -m*9.81/4 # test force\n",
    "get_f = hspline([0, 1, 2, 3, 4],                                          # independent variable\n",
    "                [[0, 0, 0, 0, 0],[0, 0, 0, 0, 0], [q, q, q, q, q],        # dependent variable\n",
    "                 [0, 0, 0, 0, 0],[0, 0, 0, 0, 0], [q, q, q, q, q], \n",
    "                 [0, 0, 0, 0, 0],[0, 0, 0, 0, 0], [q, q, q, q, q], \n",
    "                 [0, 0, 0, 0, 0],[0, 0, 0, 0, 0], [q, q, q, q/2, q/2]], \n",
    "                [[0, 0, 0, 0, 0],[0, 0, 0, 0, 0], [0, 0, 0, 0, 0],        # derivative of dependent variable\n",
    "                 [0, 0, 0, 0, 0],[0, 0, 0, 0, 0], [0, 0, 0, 0, 0], \n",
    "                 [0, 0, 0, 0, 0],[0, 0, 0, 0, 0], [0, 0, 0, 0, 0], \n",
    "                 [0, 0, 0, 0, 0],[0, 0, 0, 0, 0], [0, 0, 0, 0, 0]],\n",
    "                 axis=1)\n",
    "\n",
    "\n",
    "def derivs(state, t):\n",
    "    '''differential equations for state calculation'''\n",
    "    f = get_f(t)\n",
    "    B = get_B(s_phi, state[:3], p_legs)\n",
    "    state_dot = A@state + B@f + C\n",
    "    return state_dot\n",
    "\n",
    "\n",
    "# integrating ODE\n",
    "t = np.arange(0, T, 0.1)\n",
    "state = np.zeros(12)\n",
    "#print((A@state).shape)\n",
    "#print((B@get_f(0)).shape)\n",
    "#print(C.shape)\n",
    "x = integrate.odeint(derivs, state, t)\n",
    "\n",
    "plt.subplot(211)\n",
    "plt.plot(t, x[:,0], label=\"$p_{c,x}$\")\n",
    "plt.plot(t, x[:,1], label=\"$p_{c,y}$\")\n",
    "plt.plot(t, x[:,2], label=\"$p_{c,z}$\")\n",
    "plt.legend()\n",
    "plt.subplot(212)\n",
    "plt.plot(t, x[:,3], label=\"$w_{c,x}$\")\n",
    "plt.plot(t, x[:,4], label=\"$w_{c,y}$\")\n",
    "plt.plot(t, x[:,5], label=\"$w_{c,z}$\")\n",
    "plt.legend()\n",
    "plt.show()"
   ]
  },
  {
   "cell_type": "markdown",
   "metadata": {},
   "source": [
    "Now we can try to fomulate an optimization problem to let the robot jump. One thing that has to be specified beforehand is the duration the robot is in air and has no contact to the ground, which is derived in the following part. We know, that the kinetic energy built up is converted into potential energy:\n",
    "\n",
    "$$\n",
    "mgz_\\mathrm{max}\\,=\\,\\frac{1}{2}mv_\\mathrm{z, esc}\n",
    "$$\n",
    "\n",
    "$$\n",
    "\\Leftrightarrow v_\\mathrm{z, esc}\\,=\\,\\sqrt{2gz_\\mathrm{max}}\n",
    "$$\n",
    "\n",
    "where $z_\\mathrm{max}$ is the jump hight and $v_\\mathrm{z, esc}$ the velocity the robot has after losing contact with the ground.\n",
    "\n",
    "To calculate the time it takes to reach $z_\\mathrm{max}$, we look at the equation of motion in $z$-direction:\n",
    "\n",
    "$$\n",
    "z(t_\\mathrm{max})\\,=\\,z_\\mathrm{max}\\,=\\,\\frac{1}{2}mgt_\\mathrm{max}^2\\,+\\,v_\\mathrm{z, esc}t+z_\\mathrm{esc}\n",
    "$$\n",
    "\n",
    "$$\n",
    "\\Leftrightarrow t_\\mathrm{max}\\,=\\,-\\frac{1}{2}v_\\mathrm{z, esc}\\,+\\,\\sqrt{\\left(\\frac{1}{g}v_\\mathrm{z, esc}\\right)^2\\,-\\,\\frac{2}{g}\\left(z_\\mathrm{esc}\\,-\\,z_\\mathrm{max}\\right)}\n",
    "$$\n",
    "\n",
    "$$\n",
    "t_\\mathrm{flight} = 2t_\\mathrm{max}\n",
    "$$"
   ]
  },
  {
   "cell_type": "code",
   "execution_count": 131,
   "metadata": {},
   "outputs": [
    {
     "name": "stdout",
     "output_type": "stream",
     "text": [
      "2.4755282491357993\n"
     ]
    }
   ],
   "source": [
    "# jump specific variables (in robot coordinates)\n",
    "z_max = -0.2\n",
    "z_esc = -0.1\n",
    "v_esc = -np.sqrt(2.0*9.81*-z_max)\n",
    "t_max = -0.5*v_esc + np.sqrt(((1/9.81)*v_esc)**2 + (2/9.81)*(z_esc-z_max))\n",
    "t_flight = 2*t_max\n",
    "\n",
    "print(t_flight)"
   ]
  },
  {
   "cell_type": "markdown",
   "metadata": {},
   "source": [
    "#### Sources\n",
    "- Winkler, Alexander: Optimization-based motion planning for legged robots"
   ]
  }
 ],
 "metadata": {
  "kernelspec": {
   "display_name": "Python 3",
   "language": "python",
   "name": "python3"
  },
  "language_info": {
   "codemirror_mode": {
    "name": "ipython",
    "version": 3
   },
   "file_extension": ".py",
   "mimetype": "text/x-python",
   "name": "python",
   "nbconvert_exporter": "python",
   "pygments_lexer": "ipython3",
   "version": "3.8.5"
  }
 },
 "nbformat": 4,
 "nbformat_minor": 4
}
